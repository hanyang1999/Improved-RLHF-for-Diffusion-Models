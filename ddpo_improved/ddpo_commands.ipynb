{
 "cells": [
  {
   "cell_type": "code",
   "execution_count": 1,
   "metadata": {},
   "outputs": [
    {
     "name": "stdout",
     "output_type": "stream",
     "text": [
      "W&B enabled.\n",
      "\u001b[34m\u001b[1mwandb\u001b[0m: Appending key for api.wandb.ai to your netrc file: /home/hanyang/.netrc\n"
     ]
    }
   ],
   "source": [
    "!wandb enabled\n",
    "!wandb login 6e1176e1152b9962e270743220c98d726f8dfff4"
   ]
  },
  {
   "cell_type": "markdown",
   "metadata": {},
   "source": [
    "## DDPO original"
   ]
  },
  {
   "cell_type": "code",
   "execution_count": null,
   "metadata": {},
   "outputs": [],
   "source": [
    "!NCCL_P2P_DISABLE=1 accelerate launch scripts/train.py --config config/dgx.py:incompressibility\n",
    "#!CUDA_VISIBLE_DEVICES=0 accelerate launch scripts/train.py --config config/dgx.py:incompressibility"
   ]
  },
  {
   "cell_type": "code",
   "execution_count": null,
   "metadata": {},
   "outputs": [],
   "source": [
    "!NCCL_P2P_DISABLE=1 accelerate launch scripts/train_with_DDIM.py --config config/dgx.py:incompressibility"
   ]
  },
  {
   "cell_type": "code",
   "execution_count": null,
   "metadata": {},
   "outputs": [],
   "source": [
    "!NCCL_P2P_DISABLE=1 accelerate launch scripts/train_with_DDIM.py --config config/dgx.py:aesthetic"
   ]
  },
  {
   "cell_type": "markdown",
   "metadata": {},
   "source": [
    "### varying inference steps "
   ]
  },
  {
   "cell_type": "code",
   "execution_count": null,
   "metadata": {},
   "outputs": [],
   "source": [
    "!NCCL_P2P_DISABLE=1 accelerate launch scripts/DDPO_varying_steps_infr.py --config config/dgx.py:aesthetic"
   ]
  },
  {
   "cell_type": "code",
   "execution_count": null,
   "metadata": {},
   "outputs": [],
   "source": [
    "!NCCL_P2P_DISABLE=1 accelerate launch scripts/DDPO_varying_steps_infr.py --config config/dgx.py:incompressibility"
   ]
  },
  {
   "cell_type": "code",
   "execution_count": null,
   "metadata": {},
   "outputs": [],
   "source": [
    "!NCCL_P2P_DISABLE=1 accelerate launch scripts/DDPO_varying_steps_infr.py --config config/dgx.py:imagereward"
   ]
  },
  {
   "cell_type": "markdown",
   "metadata": {},
   "source": [
    "## DDPO with regularization"
   ]
  },
  {
   "cell_type": "code",
   "execution_count": null,
   "metadata": {},
   "outputs": [],
   "source": [
    "!NCCL_P2P_DISABLE=1 accelerate launch scripts/train_with_DDIM_regularized.py --config config/dgx.py:aesthetic"
   ]
  },
  {
   "cell_type": "code",
   "execution_count": null,
   "metadata": {},
   "outputs": [],
   "source": [
    "!CUDA_VISIBLE_DEVICES=0 accelerate launch scripts/train_continuous.py --config config/dgx.py:incompressibility"
   ]
  },
  {
   "cell_type": "code",
   "execution_count": null,
   "metadata": {},
   "outputs": [],
   "source": [
    "!NCCL_P2P_DISABLE=1 accelerate launch scripts/train_continuous.py --config config/dgx.py:incompressibility"
   ]
  },
  {
   "cell_type": "code",
   "execution_count": null,
   "metadata": {},
   "outputs": [],
   "source": [
    "! accelerate launch scripts/train_valuefunc.py --config config/dgx_score.py:incompressibility"
   ]
  },
  {
   "cell_type": "code",
   "execution_count": null,
   "metadata": {},
   "outputs": [],
   "source": [
    "! accelerate launch scripts/train_continuous.py --config config/dgx_noise.py:aesthetic"
   ]
  }
 ],
 "metadata": {
  "kernelspec": {
   "display_name": "ddpo",
   "language": "python",
   "name": "python3"
  },
  "language_info": {
   "codemirror_mode": {
    "name": "ipython",
    "version": 3
   },
   "file_extension": ".py",
   "mimetype": "text/x-python",
   "name": "python",
   "nbconvert_exporter": "python",
   "pygments_lexer": "ipython3",
   "version": "3.10.14"
  }
 },
 "nbformat": 4,
 "nbformat_minor": 2
}
