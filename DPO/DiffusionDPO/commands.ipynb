{
 "cells": [
  {
   "cell_type": "code",
   "execution_count": null,
   "metadata": {},
   "outputs": [],
   "source": [
    "# from launchers/sd15.sh\n",
    "export MODEL_NAME=\"runwayml/stable-diffusion-v1-5\"\n",
    "export DATASET_NAME=\"yuvalkirstain/pickapic_v2\"\n",
    "\n",
    "# Effective BS will be (N_GPU * train_batch_size * gradient_accumulation_steps)\n",
    "# Paper used 2048. Training takes ~24 hours / 2000 steps\n",
    "#  --mixed_precision=\"fp16\"  \n",
    "\n",
    "NCCL_P2P_DISABLE=1 accelerate launch train.py \\\n",
    "  --pretrained_model_name_or_path=$MODEL_NAME \\\n",
    "  --dataset_name=$DATASET_NAME \\\n",
    "  --train_batch_size=1 \\\n",
    "  --dataloader_num_workers=16 \\\n",
    "  --gradient_accumulation_steps=512 \\\n",
    "  --max_train_steps=500 \\\n",
    "  --lr_scheduler=\"constant_with_warmup\" --lr_warmup_steps=500 \\\n",
    "  --learning_rate=1e-8 --scale_lr \\\n",
    "  --cache_dir=\".cache/datasets/vision_language/pick_a_pic_v2_top10p\" \\\n",
    "  --checkpointing_steps 100 \\\n",
    "  --beta_dpo 5000 \\\n",
    "  --output_dir=\"diffusion-dpo-sd15\" \\\n",
    "  --report_to=\"wandb\" \\\n",
    "  --run_name=\"richfb-diffusion-dpo-baseline\""
   ]
  },
  {
   "cell_type": "code",
   "execution_count": null,
   "metadata": {},
   "outputs": [],
   "source": [
    "# from launchers/sd15.sh\n",
    "export MODEL_NAME=\"runwayml/stable-diffusion-v1-5\"\n",
    "export DATASET_NAME=\"yuvalkirstain/pickapic_v2\"\n",
    "\n",
    "# Effective BS will be (N_GPU * train_batch_size * gradient_accumulation_steps)\n",
    "# Paper used 2048. Training takes ~24 hours / 2000 steps\n",
    "#  --mixed_precision=\"fp16\"  \n",
    "\n",
    "NCCL_P2P_DISABLE=1 accelerate launch train.py \\\n",
    "  --pretrained_model_name_or_path=$MODEL_NAME \\\n",
    "  --dataset_name=$DATASET_NAME \\\n",
    "  --train_method \"dpo_improved\" \\\n",
    "  --train_batch_size=1 \\\n",
    "  --dataloader_num_workers=16 \\\n",
    "  --gradient_accumulation_steps=512 \\\n",
    "  --max_train_steps=500 \\\n",
    "  --lr_scheduler=\"constant_with_warmup\" --lr_warmup_steps=500 \\\n",
    "  --learning_rate=1e-8 --scale_lr \\\n",
    "  --cache_dir=\".cache/datasets/vision_language/pick_a_pic_v2_top10p\" \\\n",
    "  --checkpointing_steps 100 \\\n",
    "  --beta_dpo 5000 \\\n",
    "  --output_dir=\"diffusion-dpo-sd15\" \\\n",
    "  --report_to=\"wandb\" \\\n",
    "  --run_name=\"diffusion-dpo-baseline\""
   ]
  }
 ],
 "metadata": {
  "language_info": {
   "name": "python"
  }
 },
 "nbformat": 4,
 "nbformat_minor": 2
}
