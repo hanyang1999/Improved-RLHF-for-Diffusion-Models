{
 "cells": [
  {
   "cell_type": "code",
   "execution_count": 1,
   "metadata": {},
   "outputs": [
    {
     "name": "stderr",
     "output_type": "stream",
     "text": [
      "/home/hanyang/anaconda3/envs/diffusion-dpo/lib/python3.11/site-packages/tqdm/auto.py:21: TqdmWarning: IProgress not found. Please update jupyter and ipywidgets. See https://ipywidgets.readthedocs.io/en/stable/user_install.html\n",
      "  from .autonotebook import tqdm as notebook_tqdm\n"
     ]
    }
   ],
   "source": [
    "from datasets import load_dataset, Dataset, DatasetDict, load_from_disk\n",
    "from tqdm import tqdm  # Import tqdm for progress bar\n",
    "import random\n",
    "\n",
    "dataset_name = 'yuvalkirstain/pickapic_v2'\n",
    "dataset_config_name = None\n",
    "cache_dir = \"Improved-RLHF-for-Diffusion-Models/DPO/DiffusionDPO/.cache/datasets/vision_language/pick_a_pic_v2/\"\n",
    "train_data_dir = None\n",
    "\n",
    "dataset = load_dataset(\n",
    "            dataset_name,\n",
    "            dataset_config_name,\n",
    "            cache_dir=cache_dir,\n",
    "            data_dir=train_data_dir,\n",
    "            split='train', streaming=True\n",
    "        )\n",
    "\n"
   ]
  },
  {
   "cell_type": "code",
   "execution_count": 3,
   "metadata": {},
   "outputs": [],
   "source": [
    "import numpy as np"
   ]
  },
  {
   "cell_type": "code",
   "execution_count": 7,
   "metadata": {},
   "outputs": [
    {
     "name": "stderr",
     "output_type": "stream",
     "text": [
      "Streaming: 100%|██████████| 95900/95900 [1:14:20<00:00, 21.50it/s]\n",
      "Saving the dataset (65/65 shards): 100%|██████████| 95900/95900 [00:19<00:00, 5004.30 examples/s]\n"
     ]
    }
   ],
   "source": [
    "#shuffled_dataset = dataset.shuffle(seed=42, buffer_size=959000)\n",
    "\n",
    "subset = []\n",
    "num_data = 95900\n",
    "\n",
    "for i, example in enumerate(tqdm(dataset, total=num_data, desc=\"Streaming\")):\n",
    "    if i >= num_data:\n",
    "        break\n",
    "    subset.append(example)\n",
    "\n",
    "subset_dataset = Dataset.from_list(subset)\n",
    "\n",
    "subset_dict = DatasetDict({'train': subset_dataset})\n",
    "\n",
    "subset_dict.save_to_disk('/home/hanyang/Improved-RLHF-for-Diffusion-Models/DPO/DiffusionDPO/.cache/datasets/vision_language/pick_a_pic_v2')"
   ]
  },
  {
   "cell_type": "code",
   "execution_count": 6,
   "metadata": {},
   "outputs": [
    {
     "ename": "FileNotFoundError",
     "evalue": "Directory Improved-RLHF-for-Diffusion-Models/DPO/DiffusionDPO/.cache/datasets/vision_language/pick_a_pic_v2 is neither a `Dataset` directory nor a `DatasetDict` directory.",
     "output_type": "error",
     "traceback": [
      "\u001b[0;31m---------------------------------------------------------------------------\u001b[0m",
      "\u001b[0;31mFileNotFoundError\u001b[0m                         Traceback (most recent call last)",
      "Cell \u001b[0;32mIn[6], line 1\u001b[0m\n\u001b[0;32m----> 1\u001b[0m subset_copy \u001b[38;5;241m=\u001b[39m \u001b[43mload_from_disk\u001b[49m\u001b[43m(\u001b[49m\u001b[43mdataset_path\u001b[49m\u001b[38;5;241;43m=\u001b[39;49m\u001b[38;5;124;43m'\u001b[39;49m\u001b[38;5;124;43mImproved-RLHF-for-Diffusion-Models/DPO/DiffusionDPO/.cache/datasets/vision_language/pick_a_pic_v2\u001b[39;49m\u001b[38;5;124;43m'\u001b[39;49m\u001b[43m)\u001b[49m\n",
      "File \u001b[0;32m~/anaconda3/envs/diffusion-dpo/lib/python3.11/site-packages/datasets/load.py:2218\u001b[0m, in \u001b[0;36mload_from_disk\u001b[0;34m(dataset_path, keep_in_memory, storage_options)\u001b[0m\n\u001b[1;32m   2216\u001b[0m     \u001b[38;5;28;01mreturn\u001b[39;00m DatasetDict\u001b[38;5;241m.\u001b[39mload_from_disk(dataset_path, keep_in_memory\u001b[38;5;241m=\u001b[39mkeep_in_memory, storage_options\u001b[38;5;241m=\u001b[39mstorage_options)\n\u001b[1;32m   2217\u001b[0m \u001b[38;5;28;01melse\u001b[39;00m:\n\u001b[0;32m-> 2218\u001b[0m     \u001b[38;5;28;01mraise\u001b[39;00m \u001b[38;5;167;01mFileNotFoundError\u001b[39;00m(\n\u001b[1;32m   2219\u001b[0m         \u001b[38;5;124mf\u001b[39m\u001b[38;5;124m\"\u001b[39m\u001b[38;5;124mDirectory \u001b[39m\u001b[38;5;132;01m{\u001b[39;00mdataset_path\u001b[38;5;132;01m}\u001b[39;00m\u001b[38;5;124m is neither a `Dataset` directory nor a `DatasetDict` directory.\u001b[39m\u001b[38;5;124m\"\u001b[39m\n\u001b[1;32m   2220\u001b[0m     )\n",
      "\u001b[0;31mFileNotFoundError\u001b[0m: Directory Improved-RLHF-for-Diffusion-Models/DPO/DiffusionDPO/.cache/datasets/vision_language/pick_a_pic_v2 is neither a `Dataset` directory nor a `DatasetDict` directory."
     ]
    }
   ],
   "source": [
    "subset_copy = load_from_disk(dataset_path='/home/hanyang/Improved-RLHF-for-Diffusion-Models/DPO/DiffusionDPO/.cache/datasets/vision_language/pick_a_pic_v2')"
   ]
  },
  {
   "cell_type": "code",
   "execution_count": 5,
   "metadata": {},
   "outputs": [
    {
     "data": {
      "text/plain": [
       "DatasetDict({\n",
       "    train: Dataset({\n",
       "        features: ['are_different', 'best_image_uid', 'caption', 'created_at', 'has_label', 'image_0_uid', 'image_0_url', 'image_1_uid', 'image_1_url', 'jpg_0', 'jpg_1', 'label_0', 'label_1', 'model_0', 'model_1', 'ranking_id', 'user_id', 'num_example_per_prompt', '__index_level_0__'],\n",
       "        num_rows: 95900\n",
       "    })\n",
       "})"
      ]
     },
     "execution_count": 5,
     "metadata": {},
     "output_type": "execute_result"
    }
   ],
   "source": [
    "subset_copy"
   ]
  },
  {
   "cell_type": "code",
   "execution_count": null,
   "metadata": {},
   "outputs": [],
   "source": []
  }
 ],
 "metadata": {
  "kernelspec": {
   "display_name": "diffusion-dpo",
   "language": "python",
   "name": "python3"
  },
  "language_info": {
   "codemirror_mode": {
    "name": "ipython",
    "version": 3
   },
   "file_extension": ".py",
   "mimetype": "text/x-python",
   "name": "python",
   "nbconvert_exporter": "python",
   "pygments_lexer": "ipython3",
   "version": "3.11.10"
  }
 },
 "nbformat": 4,
 "nbformat_minor": 2
}
